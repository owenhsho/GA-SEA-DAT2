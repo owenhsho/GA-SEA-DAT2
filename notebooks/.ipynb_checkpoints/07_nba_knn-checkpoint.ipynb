{
 "cells": [
  {
   "cell_type": "markdown",
   "metadata": {},
   "source": [
    "# KNN exercise with NBA player data"
   ]
  },
  {
   "cell_type": "markdown",
   "metadata": {},
   "source": [
    "## Introduction\n",
    "\n",
    "- NBA player statistics from 2014-2015 (partial season): [data](https://github.com/JamesByers/GA-SEA-DAT1/blob/master/data/NBA_players_2015.csv), [data dictionary](https://github.com/JamesByers/GA-SEA-DAT1/blob/master/slides/07_nba_paper.pdf)\n",
    "- **Problem to solve:** Predict player position using assists, steals, blocks, turnovers, and personal fouls"
   ]
  },
  {
   "cell_type": "markdown",
   "metadata": {},
   "source": [
    "## Step 1: Read the data into Pandas"
   ]
  },
  {
   "cell_type": "code",
   "execution_count": 13,
   "metadata": {
    "collapsed": false,
    "scrolled": true
   },
   "outputs": [],
   "source": [
    "# read the data into a DataFrame named nba\n",
    "import pandas as pd\n",
    "path = '../data/'\n",
    "url = path + 'NBA_players_2015.csv'\n",
    "nba = pd.read_csv(url, index_col=0)"
   ]
  },
  {
   "cell_type": "code",
   "execution_count": 13,
   "metadata": {
    "collapsed": false,
    "scrolled": true
   },
   "outputs": [],
   "source": [
    "# read the data into a DataFrame named nba\n",
    "import pandas as pd\n",
    "path = '/Users/oweho/Desktop/Knowledge Base/Github/GA-SEA-DAT2/data/'\n",
    "url = path + 'NBA_players_2015.csv'\n",
    "nba = pd.read_csv(url, index_col=0)"
   ]
  },
  {
   "cell_type": "code",
   "execution_count": 9,
   "metadata": {
    "collapsed": false,
    "scrolled": true
   },
   "outputs": [
    {
     "data": {
      "text/plain": [
       "Index([u'season_end', u'player', u'pos', u'age', u'bref_team_id', u'g', u'gs',\n",
       "       u'mp', u'fg', u'fga', u'fg_', u'x3p', u'x3pa', u'x3p_', u'x2p', u'x2pa',\n",
       "       u'x2p_', u'ft', u'fta', u'ft_', u'orb', u'drb', u'trb', u'ast', u'stl',\n",
       "       u'blk', u'tov', u'pf', u'pts', u'G', u'MP', u'PER', u'TS%', u'3PAr',\n",
       "       u'FTr', u'TRB%', u'AST%', u'STL%', u'BLK%', u'TOV%', u'USG%', u'OWS',\n",
       "       u'DWS', u'WS', u'WS/48', u'OBPM', u'DBPM', u'BPM', u'VORP'],\n",
       "      dtype='object')"
      ]
     },
     "execution_count": 9,
     "metadata": {},
     "output_type": "execute_result"
    }
   ],
   "source": [
    "# examine the columns names to see what's there\n",
    "nba.columns"
   ]
  },
  {
   "cell_type": "code",
   "execution_count": 10,
   "metadata": {
    "collapsed": false,
    "scrolled": true
   },
   "outputs": [
    {
     "data": {
      "text/plain": [
       "23    56\n",
       "24    48\n",
       "26    44\n",
       "25    39\n",
       "28    37\n",
       "27    35\n",
       "29    34\n",
       "22    31\n",
       "21    24\n",
       "30    23\n",
       "34    19\n",
       "32    18\n",
       "31    16\n",
       "33    14\n",
       "20    12\n",
       "19     8\n",
       "37     6\n",
       "35     6\n",
       "36     4\n",
       "38     4\n",
       "Name: age, dtype: int64"
      ]
     },
     "execution_count": 10,
     "metadata": {},
     "output_type": "execute_result"
    }
   ],
   "source": [
    "# examine the number of players in each position to get a feel for the data\n",
    "nba.age.value_counts()"
   ]
  },
  {
   "cell_type": "code",
   "execution_count": 11,
   "metadata": {
    "collapsed": false,
    "scrolled": true
   },
   "outputs": [
    {
     "data": {
      "text/plain": [
       "G    200\n",
       "F    199\n",
       "C     79\n",
       "Name: pos, dtype: int64"
      ]
     },
     "execution_count": 11,
     "metadata": {},
     "output_type": "execute_result"
    }
   ],
   "source": [
    "nba.pos.value_counts()"
   ]
  },
  {
   "cell_type": "code",
   "execution_count": 12,
   "metadata": {
    "collapsed": false,
    "scrolled": true
   },
   "outputs": [
    {
     "data": {
      "text/html": [
       "<div>\n",
       "<table border=\"1\" class=\"dataframe\">\n",
       "  <thead>\n",
       "    <tr style=\"text-align: right;\">\n",
       "      <th></th>\n",
       "      <th>season_end</th>\n",
       "      <th>player</th>\n",
       "      <th>pos</th>\n",
       "      <th>age</th>\n",
       "      <th>bref_team_id</th>\n",
       "      <th>g</th>\n",
       "      <th>gs</th>\n",
       "      <th>mp</th>\n",
       "      <th>fg</th>\n",
       "      <th>fga</th>\n",
       "      <th>...</th>\n",
       "      <th>TOV%</th>\n",
       "      <th>USG%</th>\n",
       "      <th>OWS</th>\n",
       "      <th>DWS</th>\n",
       "      <th>WS</th>\n",
       "      <th>WS/48</th>\n",
       "      <th>OBPM</th>\n",
       "      <th>DBPM</th>\n",
       "      <th>BPM</th>\n",
       "      <th>VORP</th>\n",
       "    </tr>\n",
       "  </thead>\n",
       "  <tbody>\n",
       "    <tr>\n",
       "      <th>0</th>\n",
       "      <td>2015</td>\n",
       "      <td>Quincy Acy</td>\n",
       "      <td>F</td>\n",
       "      <td>24</td>\n",
       "      <td>NYK</td>\n",
       "      <td>52</td>\n",
       "      <td>21</td>\n",
       "      <td>19.2</td>\n",
       "      <td>2.2</td>\n",
       "      <td>4.6</td>\n",
       "      <td>...</td>\n",
       "      <td>15.1</td>\n",
       "      <td>14.7</td>\n",
       "      <td>0.6</td>\n",
       "      <td>0.5</td>\n",
       "      <td>1.0</td>\n",
       "      <td>0.050</td>\n",
       "      <td>-2.6</td>\n",
       "      <td>-0.7</td>\n",
       "      <td>-3.4</td>\n",
       "      <td>-0.3</td>\n",
       "    </tr>\n",
       "    <tr>\n",
       "      <th>1</th>\n",
       "      <td>2015</td>\n",
       "      <td>Jordan Adams</td>\n",
       "      <td>G</td>\n",
       "      <td>20</td>\n",
       "      <td>MEM</td>\n",
       "      <td>18</td>\n",
       "      <td>0</td>\n",
       "      <td>7.3</td>\n",
       "      <td>1.0</td>\n",
       "      <td>2.1</td>\n",
       "      <td>...</td>\n",
       "      <td>15.9</td>\n",
       "      <td>17.7</td>\n",
       "      <td>0.0</td>\n",
       "      <td>0.2</td>\n",
       "      <td>0.2</td>\n",
       "      <td>0.076</td>\n",
       "      <td>-2.3</td>\n",
       "      <td>1.8</td>\n",
       "      <td>-0.5</td>\n",
       "      <td>0.0</td>\n",
       "    </tr>\n",
       "    <tr>\n",
       "      <th>2</th>\n",
       "      <td>2015</td>\n",
       "      <td>Steven Adams</td>\n",
       "      <td>C</td>\n",
       "      <td>21</td>\n",
       "      <td>OKC</td>\n",
       "      <td>51</td>\n",
       "      <td>50</td>\n",
       "      <td>24.2</td>\n",
       "      <td>3.0</td>\n",
       "      <td>5.5</td>\n",
       "      <td>...</td>\n",
       "      <td>19.2</td>\n",
       "      <td>14.8</td>\n",
       "      <td>1.0</td>\n",
       "      <td>1.8</td>\n",
       "      <td>2.8</td>\n",
       "      <td>0.109</td>\n",
       "      <td>-2.0</td>\n",
       "      <td>2.0</td>\n",
       "      <td>-0.1</td>\n",
       "      <td>0.6</td>\n",
       "    </tr>\n",
       "    <tr>\n",
       "      <th>3</th>\n",
       "      <td>2015</td>\n",
       "      <td>Jeff Adrien</td>\n",
       "      <td>F</td>\n",
       "      <td>28</td>\n",
       "      <td>MIN</td>\n",
       "      <td>17</td>\n",
       "      <td>0</td>\n",
       "      <td>12.6</td>\n",
       "      <td>1.1</td>\n",
       "      <td>2.6</td>\n",
       "      <td>...</td>\n",
       "      <td>12.9</td>\n",
       "      <td>14.1</td>\n",
       "      <td>0.2</td>\n",
       "      <td>0.2</td>\n",
       "      <td>0.4</td>\n",
       "      <td>0.093</td>\n",
       "      <td>-2.6</td>\n",
       "      <td>0.8</td>\n",
       "      <td>-1.8</td>\n",
       "      <td>0.0</td>\n",
       "    </tr>\n",
       "    <tr>\n",
       "      <th>4</th>\n",
       "      <td>2015</td>\n",
       "      <td>Arron Afflalo</td>\n",
       "      <td>G</td>\n",
       "      <td>29</td>\n",
       "      <td>TOT</td>\n",
       "      <td>60</td>\n",
       "      <td>54</td>\n",
       "      <td>32.5</td>\n",
       "      <td>5.0</td>\n",
       "      <td>11.8</td>\n",
       "      <td>...</td>\n",
       "      <td>10.9</td>\n",
       "      <td>19.6</td>\n",
       "      <td>1.4</td>\n",
       "      <td>0.7</td>\n",
       "      <td>2.1</td>\n",
       "      <td>0.051</td>\n",
       "      <td>-0.2</td>\n",
       "      <td>-1.4</td>\n",
       "      <td>-1.6</td>\n",
       "      <td>0.2</td>\n",
       "    </tr>\n",
       "  </tbody>\n",
       "</table>\n",
       "<p>5 rows × 49 columns</p>\n",
       "</div>"
      ],
      "text/plain": [
       "   season_end         player pos  age bref_team_id   g  gs    mp   fg   fga  \\\n",
       "0        2015     Quincy Acy   F   24          NYK  52  21  19.2  2.2   4.6   \n",
       "1        2015   Jordan Adams   G   20          MEM  18   0   7.3  1.0   2.1   \n",
       "2        2015   Steven Adams   C   21          OKC  51  50  24.2  3.0   5.5   \n",
       "3        2015    Jeff Adrien   F   28          MIN  17   0  12.6  1.1   2.6   \n",
       "4        2015  Arron Afflalo   G   29          TOT  60  54  32.5  5.0  11.8   \n",
       "\n",
       "   ...   TOV%  USG%  OWS  DWS   WS  WS/48  OBPM  DBPM  BPM  VORP  \n",
       "0  ...   15.1  14.7  0.6  0.5  1.0  0.050  -2.6  -0.7 -3.4  -0.3  \n",
       "1  ...   15.9  17.7  0.0  0.2  0.2  0.076  -2.3   1.8 -0.5   0.0  \n",
       "2  ...   19.2  14.8  1.0  1.8  2.8  0.109  -2.0   2.0 -0.1   0.6  \n",
       "3  ...   12.9  14.1  0.2  0.2  0.4  0.093  -2.6   0.8 -1.8   0.0  \n",
       "4  ...   10.9  19.6  1.4  0.7  2.1  0.051  -0.2  -1.4 -1.6   0.2  \n",
       "\n",
       "[5 rows x 49 columns]"
      ]
     },
     "execution_count": 12,
     "metadata": {},
     "output_type": "execute_result"
    }
   ],
   "source": [
    "nba.head()"
   ]
  },
  {
   "cell_type": "code",
   "execution_count": null,
   "metadata": {
    "collapsed": true,
    "scrolled": true
   },
   "outputs": [],
   "source": []
  },
  {
   "cell_type": "markdown",
   "metadata": {},
   "source": [
    "## Step 2: Create X and y\n",
    "\n",
    "Use the following features: assists, steals, blocks, turnovers, personal fouls"
   ]
  },
  {
   "cell_type": "code",
   "execution_count": 14,
   "metadata": {
    "collapsed": false,
    "scrolled": true
   },
   "outputs": [],
   "source": [
    "# map positions to numbers\n",
    "# Specifically map the position names (C, F and G) to numbers starting with 0\n",
    "#   and store them in a new column named 'pos_num'.\n",
    "# We need to do this because KNN model algorithms require that the features\n",
    "#   and responses be numeric.\n",
    "nba['pos_num'] = nba.pos.map({'C':0, 'F':1, 'G':2})"
   ]
  },
  {
   "cell_type": "code",
   "execution_count": 16,
   "metadata": {
    "collapsed": false,
    "scrolled": true
   },
   "outputs": [
    {
     "name": "stdout",
     "output_type": "stream",
     "text": [
      "      ast  stl  blk  tov   pf\n",
      "0     1.0  0.4  0.3  0.9  2.2\n",
      "1     0.4  0.4  0.3  0.4  0.8\n",
      "2     1.0  0.4  1.2  1.6  3.0\n",
      "3     0.9  0.2  0.5  0.5  1.8\n",
      "4     1.9  0.6  0.1  1.6  2.1\n",
      "5     0.6  0.3  0.7  1.0  2.3\n",
      "6     0.6  0.4  0.4  0.4  1.8\n",
      "7     1.0  0.6  0.9  1.0  2.1\n",
      "8     1.8  0.7  1.0  1.8  1.9\n",
      "9     1.3  0.3  0.8  0.7  1.8\n",
      "10    1.4  2.0  0.5  1.3  2.8\n",
      "11    0.7  1.0  0.9  0.7  1.8\n",
      "12    1.2  0.4  0.9  0.8  2.5\n",
      "13    0.7  0.5  1.0  0.5  1.6\n",
      "14    1.1  0.7  0.1  0.8  1.9\n",
      "15    1.0  0.5  0.3  0.4  1.0\n",
      "16    1.0  0.6  0.3  1.1  2.0\n",
      "17    2.5  1.1  1.1  2.2  3.0\n",
      "18    3.1  1.0  0.4  2.2  2.2\n",
      "19    0.1  0.2  0.6  0.2  0.9\n",
      "20    0.9  0.2  0.3  0.9  2.1\n",
      "21    2.4  1.9  0.2  1.7  2.4\n",
      "22    0.9  0.8  0.5  0.8  2.5\n",
      "23    0.9  0.4  0.8  1.3  1.9\n",
      "24    4.7  0.7  0.0  1.9  1.2\n",
      "25    0.3  0.2  0.2  0.4  1.2\n",
      "26    0.4  0.3  0.2  0.4  1.1\n",
      "27    0.1  0.1  0.1  0.2  0.6\n",
      "28    1.1  0.6  0.1  0.7  1.4\n",
      "29    3.3  0.4  0.0  0.9  1.3\n",
      "..    ...  ...  ...  ...  ...\n",
      "448  10.0  1.8  0.6  3.7  2.3\n",
      "449   0.2  0.5  0.1  0.5  0.6\n",
      "450   0.3  0.3  0.1  0.5  0.9\n",
      "451   3.7  0.9  0.2  1.9  1.8\n",
      "452   0.7  0.3  0.2  0.7  1.0\n",
      "453   0.6  0.2  0.0  0.7  0.8\n",
      "454   3.3  0.8  0.8  2.0  2.3\n",
      "455   8.3  2.1  0.2  4.0  2.5\n",
      "456   0.1  0.5  2.4  1.1  2.6\n",
      "457   0.3  0.3  0.1  0.3  0.9\n",
      "458   1.9  1.1  0.6  2.0  2.5\n",
      "459   0.4  0.1  0.0  0.3  0.4\n",
      "460   6.1  1.0  0.3  2.3  2.2\n",
      "461   0.5  0.4  0.0  0.7  0.9\n",
      "462   0.9  0.3  0.0  0.5  0.9\n",
      "463   1.9  1.2  0.1  1.2  1.4\n",
      "464   1.2  0.9  0.4  0.8  1.9\n",
      "465   6.8  0.8  0.2  2.5  2.4\n",
      "466   0.6  0.0  0.0  0.1  0.4\n",
      "467   0.8  0.5  0.3  0.5  2.5\n",
      "468   0.2  0.1  0.4  0.2  0.7\n",
      "469   1.0  0.4  0.1  0.6  0.9\n",
      "470   0.5  0.6  1.2  0.4  1.4\n",
      "471   0.8  0.4  0.2  0.4  1.1\n",
      "472   5.2  1.6  0.3  3.8  2.4\n",
      "473   0.4  0.2  0.1  0.1  0.6\n",
      "474   1.0  0.5  0.3  1.0  2.0\n",
      "475   2.5  1.7  0.3  1.5  2.3\n",
      "476   1.6  0.6  0.8  1.0  2.5\n",
      "477   1.3  0.2  0.7  1.0  2.5\n",
      "\n",
      "[478 rows x 5 columns]\n"
     ]
    }
   ],
   "source": [
    "# create feature matrix (X) (it is a dataframe) that contains these columns from the nba dataframe:\n",
    "# 'ast', 'stl', 'blk', 'tov', 'pf'\n",
    "feature_columns = ['ast', 'stl', 'blk', 'tov', 'pf']\n",
    "x = nba [feature_columns]\n",
    "print (x)"
   ]
  },
  {
   "cell_type": "code",
   "execution_count": 19,
   "metadata": {
    "collapsed": false,
    "scrolled": true
   },
   "outputs": [
    {
     "name": "stdout",
     "output_type": "stream",
     "text": [
      "0      F\n",
      "1      G\n",
      "2      C\n",
      "3      F\n",
      "4      G\n",
      "5      C\n",
      "6      F\n",
      "7      C\n",
      "8      F\n",
      "9      F\n",
      "10     G\n",
      "11     F\n",
      "12     F\n",
      "13     C\n",
      "14     G\n",
      "15     F\n",
      "16     F\n",
      "17     G\n",
      "18     F\n",
      "19     C\n",
      "20     F\n",
      "21     F\n",
      "22     F\n",
      "23     C\n",
      "24     G\n",
      "25     F\n",
      "26     F\n",
      "27     F\n",
      "28     G\n",
      "29     G\n",
      "      ..\n",
      "448    G\n",
      "449    F\n",
      "450    F\n",
      "451    G\n",
      "452    F\n",
      "453    F\n",
      "454    F\n",
      "455    G\n",
      "456    C\n",
      "457    F\n",
      "458    G\n",
      "459    G\n",
      "460    G\n",
      "461    F\n",
      "462    G\n",
      "463    G\n",
      "464    F\n",
      "465    G\n",
      "466    F\n",
      "467    F\n",
      "468    C\n",
      "469    G\n",
      "470    F\n",
      "471    F\n",
      "472    G\n",
      "473    G\n",
      "474    G\n",
      "475    F\n",
      "476    C\n",
      "477    C\n",
      "Name: pos, dtype: object\n"
     ]
    }
   ],
   "source": [
    "# create response vector (y) that contains the position numbers (our labels)\n",
    "y = nba.pos\n",
    "print (y)"
   ]
  },
  {
   "cell_type": "markdown",
   "metadata": {},
   "source": [
    "## Step 3: Train a KNN model (K=5)"
   ]
  },
  {
   "cell_type": "code",
   "execution_count": 20,
   "metadata": {
    "collapsed": true,
    "scrolled": true
   },
   "outputs": [],
   "source": [
    "# import KNN class we need from scikit-learn\n",
    "from sklearn.neighbors import KNeighborsClassifier"
   ]
  },
  {
   "cell_type": "code",
   "execution_count": 21,
   "metadata": {
    "collapsed": false,
    "scrolled": true
   },
   "outputs": [
    {
     "data": {
      "text/plain": [
       "sklearn.neighbors.classification.KNeighborsClassifier"
      ]
     },
     "execution_count": 21,
     "metadata": {},
     "output_type": "execute_result"
    }
   ],
   "source": [
    "# instantiate the estimator with K=5\n",
    "knn = KNeighborsClassifier(n_neighbors=5)\n",
    "type(knn)"
   ]
  },
  {
   "cell_type": "code",
   "execution_count": 22,
   "metadata": {
    "collapsed": false,
    "scrolled": true
   },
   "outputs": [
    {
     "name": "stdout",
     "output_type": "stream",
     "text": [
      "KNeighborsClassifier(algorithm='auto', leaf_size=30, metric='minkowski',\n",
      "           metric_params=None, n_jobs=1, n_neighbors=5, p=2,\n",
      "           weights='uniform')\n"
     ]
    },
    {
     "data": {
      "text/plain": [
       "KNeighborsClassifier(algorithm='auto', leaf_size=30, metric='minkowski',\n",
       "           metric_params=None, n_jobs=1, n_neighbors=5, p=2,\n",
       "           weights='uniform')"
      ]
     },
     "execution_count": 22,
     "metadata": {},
     "output_type": "execute_result"
    }
   ],
   "source": [
    "# run a knn.fit on the data to build the model\n",
    "print knn\n",
    "knn.fit(x,y)"
   ]
  },
  {
   "cell_type": "markdown",
   "metadata": {},
   "source": [
    "## Step 4: Use the model:\n",
    "## Predict player position and calculate predicted probability of each position\n",
    "\n",
    "Predict for a player with these statistics: 1 assist, 1 steal, 0 blocks, 1 turnover, 2 personal fouls"
   ]
  },
  {
   "cell_type": "code",
   "execution_count": 23,
   "metadata": {
    "collapsed": true,
    "scrolled": true
   },
   "outputs": [],
   "source": [
    "# create a list to represent a player\n",
    "player = [1, 1, 0, 1, 2]"
   ]
  },
  {
   "cell_type": "code",
   "execution_count": 27,
   "metadata": {
    "collapsed": false
   },
   "outputs": [
    {
     "name": "stderr",
     "output_type": "stream",
     "text": [
      "C:\\Anaconda2\\lib\\site-packages\\sklearn\\utils\\validation.py:386: DeprecationWarning: Passing 1d arrays as data is deprecated in 0.17 and willraise ValueError in 0.19. Reshape your data either using X.reshape(-1, 1) if your data has a single feature or X.reshape(1, -1) if it contains a single sample.\n",
      "  DeprecationWarning)\n"
     ]
    },
    {
     "data": {
      "text/plain": [
       "array(['F'], dtype=object)"
      ]
     },
     "execution_count": 27,
     "metadata": {},
     "output_type": "execute_result"
    }
   ],
   "source": [
    "knn.predict(player)"
   ]
  },
  {
   "cell_type": "code",
   "execution_count": 25,
   "metadata": {
    "collapsed": false,
    "scrolled": true
   },
   "outputs": [
    {
     "name": "stderr",
     "output_type": "stream",
     "text": [
      "C:\\Anaconda2\\lib\\site-packages\\sklearn\\utils\\validation.py:386: DeprecationWarning: Passing 1d arrays as data is deprecated in 0.17 and willraise ValueError in 0.19. Reshape your data either using X.reshape(-1, 1) if your data has a single feature or X.reshape(1, -1) if it contains a single sample.\n",
      "  DeprecationWarning)\n"
     ]
    },
    {
     "data": {
      "text/plain": [
       "array(['F'], dtype=object)"
      ]
     },
     "execution_count": 25,
     "metadata": {},
     "output_type": "execute_result"
    }
   ],
   "source": [
    "# make a prediction with the model\n",
    "new_player = [2,1,0,2,1]\n",
    "knn.predict(new_player)"
   ]
  },
  {
   "cell_type": "code",
   "execution_count": 26,
   "metadata": {
    "collapsed": false,
    "scrolled": true
   },
   "outputs": [
    {
     "name": "stderr",
     "output_type": "stream",
     "text": [
      "C:\\Anaconda2\\lib\\site-packages\\sklearn\\utils\\validation.py:386: DeprecationWarning: Passing 1d arrays as data is deprecated in 0.17 and willraise ValueError in 0.19. Reshape your data either using X.reshape(-1, 1) if your data has a single feature or X.reshape(1, -1) if it contains a single sample.\n",
      "  DeprecationWarning)\n"
     ]
    },
    {
     "data": {
      "text/plain": [
       "array([[ 0.2,  0.4,  0.4]])"
      ]
     },
     "execution_count": 26,
     "metadata": {},
     "output_type": "execute_result"
    }
   ],
   "source": [
    "# calculate the predicted probabilities\n",
    "knn.predict_proba(new_player)"
   ]
  },
  {
   "cell_type": "markdown",
   "metadata": {},
   "source": [
    "## Step 5: Repeat steps 3 and 4 using K=50"
   ]
  },
  {
   "cell_type": "code",
   "execution_count": 34,
   "metadata": {
    "collapsed": false,
    "scrolled": true
   },
   "outputs": [
    {
     "data": {
      "text/plain": [
       "array(['G'], dtype=object)"
      ]
     },
     "execution_count": 34,
     "metadata": {},
     "output_type": "execute_result"
    }
   ],
   "source": [
    "# repeat for K=50\n",
    "knn = KNeighborsClassifier(n_neighbors=50)\n",
    "type(knn)\n",
    "knn.fit(x,y)\n",
    "knn.predict([new_player])"
   ]
  },
  {
   "cell_type": "code",
   "execution_count": 31,
   "metadata": {
    "collapsed": false,
    "scrolled": true
   },
   "outputs": [
    {
     "name": "stderr",
     "output_type": "stream",
     "text": [
      "C:\\Anaconda2\\lib\\site-packages\\sklearn\\utils\\validation.py:386: DeprecationWarning: Passing 1d arrays as data is deprecated in 0.17 and willraise ValueError in 0.19. Reshape your data either using X.reshape(-1, 1) if your data has a single feature or X.reshape(1, -1) if it contains a single sample.\n",
      "  DeprecationWarning)\n"
     ]
    },
    {
     "data": {
      "text/plain": [
       "array([[ 0.04,  0.26,  0.7 ]])"
      ]
     },
     "execution_count": 31,
     "metadata": {},
     "output_type": "execute_result"
    }
   ],
   "source": [
    "# calculate predicted probabilities\n",
    "knn.predict_proba(player)"
   ]
  },
  {
   "cell_type": "markdown",
   "metadata": {},
   "source": [
    "## Bonus: Explore the features to ones ones that likely are the most predictive"
   ]
  },
  {
   "cell_type": "code",
   "execution_count": 32,
   "metadata": {
    "collapsed": true,
    "scrolled": true
   },
   "outputs": [],
   "source": [
    "# allow plots to appear in the notebook\n",
    "%matplotlib inline\n",
    "import matplotlib.pyplot as plt\n",
    "\n",
    "# increase default figure and font sizes for easier viewing\n",
    "plt.rcParams['figure.figsize'] = (6, 4)\n",
    "plt.rcParams['font.size'] = 14"
   ]
  },
  {
   "cell_type": "code",
   "execution_count": 43,
   "metadata": {
    "collapsed": false,
    "scrolled": true
   },
   "outputs": [
    {
     "data": {
      "text/html": [
       "<div>\n",
       "<table border=\"1\" class=\"dataframe\">\n",
       "  <thead>\n",
       "    <tr style=\"text-align: right;\">\n",
       "      <th></th>\n",
       "      <th>count</th>\n",
       "      <th>mean</th>\n",
       "      <th>std</th>\n",
       "      <th>min</th>\n",
       "      <th>25%</th>\n",
       "      <th>50%</th>\n",
       "      <th>75%</th>\n",
       "      <th>max</th>\n",
       "    </tr>\n",
       "    <tr>\n",
       "      <th>pos</th>\n",
       "      <th></th>\n",
       "      <th></th>\n",
       "      <th></th>\n",
       "      <th></th>\n",
       "      <th></th>\n",
       "      <th></th>\n",
       "      <th></th>\n",
       "      <th></th>\n",
       "    </tr>\n",
       "  </thead>\n",
       "  <tbody>\n",
       "    <tr>\n",
       "      <th>C</th>\n",
       "      <td>79</td>\n",
       "      <td>0.945570</td>\n",
       "      <td>0.858263</td>\n",
       "      <td>0</td>\n",
       "      <td>0.40</td>\n",
       "      <td>0.80</td>\n",
       "      <td>1.15</td>\n",
       "      <td>4.4</td>\n",
       "    </tr>\n",
       "    <tr>\n",
       "      <th>F</th>\n",
       "      <td>199</td>\n",
       "      <td>1.173367</td>\n",
       "      <td>1.086252</td>\n",
       "      <td>0</td>\n",
       "      <td>0.45</td>\n",
       "      <td>0.90</td>\n",
       "      <td>1.50</td>\n",
       "      <td>7.3</td>\n",
       "    </tr>\n",
       "    <tr>\n",
       "      <th>G</th>\n",
       "      <td>200</td>\n",
       "      <td>2.729000</td>\n",
       "      <td>2.128287</td>\n",
       "      <td>0</td>\n",
       "      <td>1.10</td>\n",
       "      <td>2.25</td>\n",
       "      <td>3.80</td>\n",
       "      <td>10.2</td>\n",
       "    </tr>\n",
       "  </tbody>\n",
       "</table>\n",
       "</div>"
      ],
      "text/plain": [
       "     count      mean       std  min   25%   50%   75%   max\n",
       "pos                                                        \n",
       "C       79  0.945570  0.858263    0  0.40  0.80  1.15   4.4\n",
       "F      199  1.173367  1.086252    0  0.45  0.90  1.50   7.3\n",
       "G      200  2.729000  2.128287    0  1.10  2.25  3.80  10.2"
      ]
     },
     "execution_count": 43,
     "metadata": {},
     "output_type": "execute_result"
    }
   ],
   "source": [
    "# get a describe of assists grouped by position.  Use .unstack() to format the output\n",
    "nba.groupby('pos').ast.describe().unstack()"
   ]
  },
  {
   "cell_type": "code",
   "execution_count": null,
   "metadata": {
    "collapsed": false,
    "scrolled": true
   },
   "outputs": [],
   "source": [
    "# box plot of assists grouped by position\n"
   ]
  },
  {
   "cell_type": "code",
   "execution_count": null,
   "metadata": {
    "collapsed": false,
    "scrolled": true
   },
   "outputs": [],
   "source": [
    "# group plot of histograms of assists grouped by position\n"
   ]
  }
 ],
 "metadata": {
  "kernelspec": {
   "display_name": "Python 2",
   "language": "python",
   "name": "python2"
  },
  "language_info": {
   "codemirror_mode": {
    "name": "ipython",
    "version": 2
   },
   "file_extension": ".py",
   "mimetype": "text/x-python",
   "name": "python",
   "nbconvert_exporter": "python",
   "pygments_lexer": "ipython2",
   "version": "2.7.11"
  }
 },
 "nbformat": 4,
 "nbformat_minor": 0
}
